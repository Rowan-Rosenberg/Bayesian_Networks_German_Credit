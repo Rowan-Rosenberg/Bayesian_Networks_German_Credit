{
 "cells": [
  {
   "cell_type": "code",
   "execution_count": null,
   "id": "371f5632",
   "metadata": {},
   "outputs": [
    {
     "data": {
      "text/html": [
       "<table><tr><th>Library</th><th>Version</th></tr><tr><td>OS</td><td>nt [win32]</td></tr><tr><td>Python</td><td>3.12.5 (tags/v3.12.5:ff3bc82, Aug  6 2024, 20:45:27) [MSC v.1940 64 bit (AMD64)]</td></tr><tr><td>IPython</td><td>9.6.0</td></tr><tr><td>Matplotlib</td><td>3.10.0</td></tr><tr><td>Numpy</td><td>2.0.2</td></tr><tr><td>pyDot</td><td>4.0.1</td></tr><tr><td>pyAgrum</td><td>2.2.1</td></tr></table><div align='right'><small>Wed Oct 08 14:04:10 2025 South Africa Standard Time</small></div>"
      ],
      "text/plain": [
       "<IPython.core.display.HTML object>"
      ]
     },
     "metadata": {},
     "output_type": "display_data"
    },
    {
     "name": "stdout",
     "output_type": "stream",
     "text": [
      "\"dot\" with args ['-Tsvg', 'C:\\\\Users\\\\ROWANR~1\\\\AppData\\\\Local\\\\Temp\\\\tmp7e9vn3b4\\\\tmp5cdn7e2q'] returned code: 1\n",
      "\n",
      "stdout, stderr:\n",
      " b''\n",
      "b\"Error: C:\\\\Users\\\\ROWANR~1\\\\AppData\\\\Local\\\\Temp\\\\tmp7e9vn3b4\\\\tmp5cdn7e2q: syntax error in line 3 near '('\\r\\n\"\n",
      "\n"
     ]
    },
    {
     "ename": "AssertionError",
     "evalue": "\"dot\" with args ['-Tsvg', 'C:\\\\Users\\\\ROWANR~1\\\\AppData\\\\Local\\\\Temp\\\\tmp7e9vn3b4\\\\tmp5cdn7e2q'] returned code: 1",
     "output_type": "error",
     "traceback": [
      "\u001b[31m---------------------------------------------------------------------------\u001b[39m",
      "\u001b[31mAssertionError\u001b[39m                            Traceback (most recent call last)",
      "\u001b[36mCell\u001b[39m\u001b[36m \u001b[39m\u001b[32mIn[2]\u001b[39m\u001b[32m, line 12\u001b[39m\n\u001b[32m      9\u001b[39m bif_path = \u001b[33m\"\u001b[39m\u001b[33mGermanCreditManual.bif\u001b[39m\u001b[33m\"\u001b[39m\n\u001b[32m     11\u001b[39m bn = gum.loadBN(bif_path)\n\u001b[32m---> \u001b[39m\u001b[32m12\u001b[39m \u001b[43mgnb\u001b[49m\u001b[43m.\u001b[49m\u001b[43mshowBN\u001b[49m\u001b[43m(\u001b[49m\u001b[43mbn\u001b[49m\u001b[43m,\u001b[49m\u001b[43m \u001b[49m\u001b[43msize\u001b[49m\u001b[43m=\u001b[49m\u001b[43m(\u001b[49m\u001b[32;43m800\u001b[39;49m\u001b[43m,\u001b[49m\u001b[43m \u001b[49m\u001b[32;43m600\u001b[39;49m\u001b[43m)\u001b[49m\u001b[43m)\u001b[49m\n\u001b[32m     14\u001b[39m \u001b[38;5;66;03m# Replace with the path to your influence diagram file\u001b[39;00m\n\u001b[32m     15\u001b[39m id_path = \u001b[33m\"\u001b[39m\u001b[33mcredit_decision_influence_diagram_bn.xml\u001b[39m\u001b[33m\"\u001b[39m\n",
      "\u001b[36mFile \u001b[39m\u001b[32m~\\AppData\\Roaming\\Python\\Python312\\site-packages\\pyagrum\\lib\\notebook.py:882\u001b[39m, in \u001b[36mshowBN\u001b[39m\u001b[34m(bn, size, nodeColor, arcWidth, arcLabel, arcColor, cmapNode, cmapArc)\u001b[39m\n\u001b[32m    879\u001b[39m \u001b[38;5;28;01mif\u001b[39;00m cmapArc \u001b[38;5;129;01mis\u001b[39;00m \u001b[38;5;28;01mNone\u001b[39;00m:\n\u001b[32m    880\u001b[39m   cmapArc = cmapNode\n\u001b[32m--> \u001b[39m\u001b[32m882\u001b[39m \u001b[38;5;28;01mreturn\u001b[39;00m \u001b[43mshowGraph\u001b[49m\u001b[43m(\u001b[49m\n\u001b[32m    883\u001b[39m \u001b[43m  \u001b[49m\u001b[43mBN2dot\u001b[49m\u001b[43m(\u001b[49m\n\u001b[32m    884\u001b[39m \u001b[43m    \u001b[49m\u001b[43mbn\u001b[49m\u001b[43m,\u001b[49m\n\u001b[32m    885\u001b[39m \u001b[43m    \u001b[49m\u001b[43msize\u001b[49m\u001b[43m=\u001b[49m\u001b[43msize\u001b[49m\u001b[43m,\u001b[49m\n\u001b[32m    886\u001b[39m \u001b[43m    \u001b[49m\u001b[43mnodeColor\u001b[49m\u001b[43m=\u001b[49m\u001b[43mnodeColor\u001b[49m\u001b[43m,\u001b[49m\n\u001b[32m    887\u001b[39m \u001b[43m    \u001b[49m\u001b[43marcWidth\u001b[49m\u001b[43m=\u001b[49m\u001b[43marcWidth\u001b[49m\u001b[43m,\u001b[49m\n\u001b[32m    888\u001b[39m \u001b[43m    \u001b[49m\u001b[43marcLabel\u001b[49m\u001b[43m=\u001b[49m\u001b[43marcLabel\u001b[49m\u001b[43m,\u001b[49m\n\u001b[32m    889\u001b[39m \u001b[43m    \u001b[49m\u001b[43marcColor\u001b[49m\u001b[43m=\u001b[49m\u001b[43marcColor\u001b[49m\u001b[43m,\u001b[49m\n\u001b[32m    890\u001b[39m \u001b[43m    \u001b[49m\u001b[43mcmapNode\u001b[49m\u001b[43m=\u001b[49m\u001b[43mcmapNode\u001b[49m\u001b[43m,\u001b[49m\n\u001b[32m    891\u001b[39m \u001b[43m    \u001b[49m\u001b[43mcmapArc\u001b[49m\u001b[43m=\u001b[49m\u001b[43mcmapArc\u001b[49m\u001b[43m,\u001b[49m\n\u001b[32m    892\u001b[39m \u001b[43m  \u001b[49m\u001b[43m)\u001b[49m\u001b[43m,\u001b[49m\n\u001b[32m    893\u001b[39m \u001b[43m  \u001b[49m\u001b[43msize\u001b[49m\u001b[43m,\u001b[49m\n\u001b[32m    894\u001b[39m \u001b[43m\u001b[49m\u001b[43m)\u001b[49m\n",
      "\u001b[36mFile \u001b[39m\u001b[32m~\\AppData\\Roaming\\Python\\Python312\\site-packages\\pyagrum\\lib\\notebook.py:311\u001b[39m, in \u001b[36mshowGraph\u001b[39m\u001b[34m(gr, size)\u001b[39m\n\u001b[32m    308\u001b[39m \u001b[38;5;28;01mif\u001b[39;00m size \u001b[38;5;129;01mis\u001b[39;00m \u001b[38;5;28;01mNone\u001b[39;00m:\n\u001b[32m    309\u001b[39m   size = gum.config[\u001b[33m\"\u001b[39m\u001b[33mnotebook\u001b[39m\u001b[33m\"\u001b[39m, \u001b[33m\"\u001b[39m\u001b[33mdefault_graph_size\u001b[39m\u001b[33m\"\u001b[39m]\n\u001b[32m--> \u001b[39m\u001b[32m311\u001b[39m \u001b[38;5;28;01mreturn\u001b[39;00m \u001b[43m_reprGraph\u001b[49m\u001b[43m(\u001b[49m\u001b[43mgr\u001b[49m\u001b[43m,\u001b[49m\u001b[43m \u001b[49m\u001b[43msize\u001b[49m\u001b[43m,\u001b[49m\u001b[43m \u001b[49m\u001b[43masString\u001b[49m\u001b[43m=\u001b[49m\u001b[38;5;28;43;01mFalse\u001b[39;49;00m\u001b[43m)\u001b[49m\n",
      "\u001b[36mFile \u001b[39m\u001b[32m~\\AppData\\Roaming\\Python\\Python312\\site-packages\\pyagrum\\lib\\notebook.py:284\u001b[39m, in \u001b[36m_reprGraph\u001b[39m\u001b[34m(gr, size, asString, graph_format)\u001b[39m\n\u001b[32m    281\u001b[39m   graph_format = gum.config[\u001b[33m\"\u001b[39m\u001b[33mnotebook\u001b[39m\u001b[33m\"\u001b[39m, \u001b[33m\"\u001b[39m\u001b[33mgraph_format\u001b[39m\u001b[33m\"\u001b[39m]\n\u001b[32m    283\u001b[39m \u001b[38;5;28;01mif\u001b[39;00m graph_format == \u001b[33m\"\u001b[39m\u001b[33msvg\u001b[39m\u001b[33m\"\u001b[39m:\n\u001b[32m--> \u001b[39m\u001b[32m284\u001b[39m   gsvg = IPython.display.SVG(prepareLinksForSVG(\u001b[43mgr\u001b[49m\u001b[43m.\u001b[49m\u001b[43mcreate_svg\u001b[49m\u001b[43m(\u001b[49m\u001b[43mencoding\u001b[49m\u001b[43m=\u001b[49m\u001b[33;43m\"\u001b[39;49m\u001b[33;43mutf-8\u001b[39;49m\u001b[33;43m\"\u001b[39;49m\u001b[43m)\u001b[49m.decode(\u001b[33m\"\u001b[39m\u001b[33mutf-8\u001b[39m\u001b[33m\"\u001b[39m)))\n\u001b[32m    285\u001b[39m   \u001b[38;5;28;01mif\u001b[39;00m asString:\n\u001b[32m    286\u001b[39m     \u001b[38;5;28;01mreturn\u001b[39;00m gsvg.data\n",
      "\u001b[36mFile \u001b[39m\u001b[32m~\\AppData\\Roaming\\Python\\Python312\\site-packages\\pydot\\core.py:181\u001b[39m, in \u001b[36m__generate_format_methods.<locals>.__create_method\u001b[39m\u001b[34m(self, f, prog, encoding)\u001b[39m\n\u001b[32m    174\u001b[39m \u001b[38;5;28;01mdef\u001b[39;00m \u001b[34m__create_method\u001b[39m(\n\u001b[32m    175\u001b[39m     \u001b[38;5;28mself\u001b[39m: Any,\n\u001b[32m    176\u001b[39m     f: \u001b[38;5;28mstr\u001b[39m = frmt,\n\u001b[32m    177\u001b[39m     prog: \u001b[38;5;28mstr\u001b[39m | \u001b[38;5;28;01mNone\u001b[39;00m = \u001b[38;5;28;01mNone\u001b[39;00m,\n\u001b[32m    178\u001b[39m     encoding: \u001b[38;5;28mstr\u001b[39m | \u001b[38;5;28;01mNone\u001b[39;00m = \u001b[38;5;28;01mNone\u001b[39;00m,\n\u001b[32m    179\u001b[39m ) -> Any:\n\u001b[32m    180\u001b[39m \u001b[38;5;250m    \u001b[39m\u001b[33;03m\"\"\"Refer to docstring of method `create`.\"\"\"\u001b[39;00m\n\u001b[32m--> \u001b[39m\u001b[32m181\u001b[39m     \u001b[38;5;28;01mreturn\u001b[39;00m \u001b[38;5;28;43mself\u001b[39;49m\u001b[43m.\u001b[49m\u001b[43mcreate\u001b[49m\u001b[43m(\u001b[49m\u001b[38;5;28;43mformat\u001b[39;49m\u001b[43m=\u001b[49m\u001b[43mf\u001b[49m\u001b[43m,\u001b[49m\u001b[43m \u001b[49m\u001b[43mprog\u001b[49m\u001b[43m=\u001b[49m\u001b[43mprog\u001b[49m\u001b[43m,\u001b[49m\u001b[43m \u001b[49m\u001b[43mencoding\u001b[49m\u001b[43m=\u001b[49m\u001b[43mencoding\u001b[49m\u001b[43m)\u001b[49m\n",
      "\u001b[36mFile \u001b[39m\u001b[32m~\\AppData\\Roaming\\Python\\Python312\\site-packages\\pydot\\core.py:1844\u001b[39m, in \u001b[36mDot.create\u001b[39m\u001b[34m(self, prog, format, encoding)\u001b[39m\n\u001b[32m   1838\u001b[39m     code = process.returncode\n\u001b[32m   1839\u001b[39m     \u001b[38;5;28mprint\u001b[39m(\n\u001b[32m   1840\u001b[39m         \u001b[33mf\u001b[39m\u001b[33m'\u001b[39m\u001b[33m\"\u001b[39m\u001b[38;5;132;01m{\u001b[39;00mprog\u001b[38;5;132;01m}\u001b[39;00m\u001b[33m\"\u001b[39m\u001b[33m with args \u001b[39m\u001b[38;5;132;01m{\u001b[39;00marguments\u001b[38;5;132;01m}\u001b[39;00m\u001b[33m returned code: \u001b[39m\u001b[38;5;132;01m{\u001b[39;00mcode\u001b[38;5;132;01m}\u001b[39;00m\u001b[38;5;130;01m\\n\u001b[39;00m\u001b[38;5;130;01m\\n\u001b[39;00m\u001b[33m'\u001b[39m\n\u001b[32m   1841\u001b[39m         \u001b[33mf\u001b[39m\u001b[33m\"\u001b[39m\u001b[33mstdout, stderr:\u001b[39m\u001b[38;5;130;01m\\n\u001b[39;00m\u001b[33m \u001b[39m\u001b[38;5;132;01m{\u001b[39;00mstdout_data\u001b[38;5;132;01m}\u001b[39;00m\u001b[38;5;130;01m\\n\u001b[39;00m\u001b[38;5;132;01m{\u001b[39;00mstderr_data\u001b[38;5;132;01m}\u001b[39;00m\u001b[38;5;130;01m\\n\u001b[39;00m\u001b[33m\"\u001b[39m\n\u001b[32m   1842\u001b[39m     )\n\u001b[32m-> \u001b[39m\u001b[32m1844\u001b[39m \u001b[38;5;28;01massert\u001b[39;00m process.returncode == \u001b[32m0\u001b[39m, (\n\u001b[32m   1845\u001b[39m     \u001b[33mf\u001b[39m\u001b[33m'\u001b[39m\u001b[33m\"\u001b[39m\u001b[38;5;132;01m{\u001b[39;00mprog\u001b[38;5;132;01m}\u001b[39;00m\u001b[33m\"\u001b[39m\u001b[33m with args \u001b[39m\u001b[38;5;132;01m{\u001b[39;00marguments\u001b[38;5;132;01m}\u001b[39;00m\u001b[33m \u001b[39m\u001b[33m'\u001b[39m\n\u001b[32m   1846\u001b[39m     \u001b[33mf\u001b[39m\u001b[33m\"\u001b[39m\u001b[33mreturned code: \u001b[39m\u001b[38;5;132;01m{\u001b[39;00mprocess.returncode\u001b[38;5;132;01m}\u001b[39;00m\u001b[33m\"\u001b[39m\n\u001b[32m   1847\u001b[39m )\n\u001b[32m   1849\u001b[39m \u001b[38;5;28;01mreturn\u001b[39;00m stdout_data\n",
      "\u001b[31mAssertionError\u001b[39m: \"dot\" with args ['-Tsvg', 'C:\\\\Users\\\\ROWANR~1\\\\AppData\\\\Local\\\\Temp\\\\tmp7e9vn3b4\\\\tmp5cdn7e2q'] returned code: 1"
     ]
    }
   ],
   "source": [
    "import pyagrum as gum\n",
    "import pyagrum.lib.notebook as gnb\n",
    "\n",
    "# Enable inline visualization for pyAgrum\n",
    "# (If you’re using JupyterLab, you may need to enable nbextensions)\n",
    "gnb.configuration()\n",
    "\n",
    "# Replace with the path to your .bif file\n",
    "bif_path = \"GermanCreditManual.bif\"\n",
    "\n",
    "bn = gum.loadBN(bif_path)\n",
    "gnb.showBN(bn, size=\"90%\")\n",
    "\n",
    "# Replace with the path to your influence diagram file\n",
    "id_path = \"credit_decision_influence_diagram_bn.xml\"\n",
    "\n",
    "id = gum.loadID(id_path)\n",
    "gnb.showInfluenceDiagram(id)\n"
   ]
  }
 ],
 "metadata": {
  "kernelspec": {
   "display_name": "Python 3",
   "language": "python",
   "name": "python3"
  },
  "language_info": {
   "codemirror_mode": {
    "name": "ipython",
    "version": 3
   },
   "file_extension": ".py",
   "mimetype": "text/x-python",
   "name": "python",
   "nbconvert_exporter": "python",
   "pygments_lexer": "ipython3",
   "version": "3.12.5"
  }
 },
 "nbformat": 4,
 "nbformat_minor": 5
}
